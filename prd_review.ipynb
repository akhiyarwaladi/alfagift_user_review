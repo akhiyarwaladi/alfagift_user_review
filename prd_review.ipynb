{
 "cells": [
  {
   "cell_type": "code",
   "execution_count": 1,
   "metadata": {
    "scrolled": true
   },
   "outputs": [
    {
     "name": "stderr",
     "output_type": "stream",
     "text": [
      "/opt/anaconda3/lib/python3.8/site-packages/gensim/similarities/__init__.py:15: UserWarning: The gensim.similarities.levenshtein submodule is disabled, because the optional Levenshtein package <https://pypi.org/project/python-Levenshtein/> is unavailable. Install Levenhstein (e.g. `pip install python-Levenshtein`) to suppress this warning.\n",
      "  warnings.warn(msg)\n"
     ]
    }
   ],
   "source": [
    "import sys\n",
    "sys.path.append('/home/server/gli-data-science/')\n",
    "\n",
    "import ds_db\n",
    "import pandas as pd\n",
    "import numpy as np\n",
    "import gensim\n",
    "from multiprocessing import  Pool\n",
    "pd.set_option('display.max_columns', None)\n",
    "pd.set_option('max_colwidth', None)"
   ]
  },
  {
   "cell_type": "code",
   "execution_count": 2,
   "metadata": {},
   "outputs": [
    {
     "name": "stdout",
     "output_type": "stream",
     "text": [
      "You are connected\n"
     ]
    }
   ],
   "source": [
    "q = '''\n",
    "\n",
    "select tbtdr_ponta_user, tbtdr_tbto_id, tbtdr_rating, tbtdr_review \n",
    "from tb_transaction_delivery_rating ttdr \n",
    "where tbtdr_review notnull and tbtdr_review != ''\n",
    "and tbtdr_created_date between '2021-06-01' and '2021-07-25'\n",
    "'''\n",
    "\n",
    "con, cur = ds_db.connect_prd_order_3()\n",
    "df_re = pd.read_sql(q, con)\n",
    "\n",
    "\n",
    "con.close()"
   ]
  },
  {
   "cell_type": "code",
   "execution_count": 3,
   "metadata": {},
   "outputs": [],
   "source": [
    "df_re = df_re[df_re['tbtdr_rating'].isin([1,2])]"
   ]
  },
  {
   "cell_type": "code",
   "execution_count": null,
   "metadata": {},
   "outputs": [],
   "source": []
  },
  {
   "cell_type": "code",
   "execution_count": 4,
   "metadata": {},
   "outputs": [],
   "source": [
    "from nlp_id.lemmatizer import Lemmatizer \n",
    "from nlp_id.stopword import StopWord \n",
    "from nlp_id.tokenizer import Tokenizer \n",
    "\n",
    "import re\n",
    "import nltk\n",
    "\n",
    "def basic_clean_single(text):\n",
    "    lemmatizer = Lemmatizer() \n",
    "    \n",
    "    stopword = StopWord() \n",
    "    stopwords = stopword.get_stopword() \n",
    "    \n",
    "    tokenizer = Tokenizer() \n",
    "    words = tokenizer.tokenize(text)\n",
    "    #return [lemmatizer.lemmatize(word) for word in words if word not in stopwords]\n",
    "    return [lemmatizer.lemmatize(word) for word in words]\n",
    "\n",
    "def basic_clean(df):\n",
    "    \"\"\"\n",
    "    A simple function to clean up the data. All the words that\n",
    "    are not designated as a stop word is then lemmatized after\n",
    "    encoding and basic regex parsing are performed.\n",
    "    \"\"\"\n",
    "    df['tbtdr_review_token'] = df['tbtdr_review'].apply(basic_clean_single)\n",
    "    return df\n",
    "\n",
    "\n",
    "# processed_docs = list(df_re['tbtdr_review'].apply(basic_clean))"
   ]
  },
  {
   "cell_type": "code",
   "execution_count": 5,
   "metadata": {},
   "outputs": [],
   "source": [
    "def parallelize_dataframe(df, func, n_cores=16):\n",
    "    df_split = np.array_split(df, n_cores)\n",
    "    pool = Pool(n_cores)\n",
    "    df = pd.concat(pool.map(func, df_split))\n",
    "    pool.close()\n",
    "    pool.join()\n",
    "    return df\n",
    "\n",
    "processed_docs = parallelize_dataframe(df_re, basic_clean)"
   ]
  },
  {
   "cell_type": "code",
   "execution_count": 7,
   "metadata": {},
   "outputs": [
    {
     "data": {
      "text/html": [
       "<div>\n",
       "<style scoped>\n",
       "    .dataframe tbody tr th:only-of-type {\n",
       "        vertical-align: middle;\n",
       "    }\n",
       "\n",
       "    .dataframe tbody tr th {\n",
       "        vertical-align: top;\n",
       "    }\n",
       "\n",
       "    .dataframe thead th {\n",
       "        text-align: right;\n",
       "    }\n",
       "</style>\n",
       "<table border=\"1\" class=\"dataframe\">\n",
       "  <thead>\n",
       "    <tr style=\"text-align: right;\">\n",
       "      <th></th>\n",
       "      <th>tbtdr_ponta_user</th>\n",
       "      <th>tbtdr_tbto_id</th>\n",
       "      <th>tbtdr_rating</th>\n",
       "      <th>tbtdr_review</th>\n",
       "      <th>tbtdr_review_token</th>\n",
       "    </tr>\n",
       "  </thead>\n",
       "  <tbody>\n",
       "    <tr>\n",
       "      <th>233</th>\n",
       "      <td>9990013350229355</td>\n",
       "      <td>6103590</td>\n",
       "      <td>2.0</td>\n",
       "      <td>Pembayaran Sulit</td>\n",
       "      <td>[bayar, sulit]</td>\n",
       "    </tr>\n",
       "    <tr>\n",
       "      <th>387</th>\n",
       "      <td>9990010138638665</td>\n",
       "      <td>5550827</td>\n",
       "      <td>1.0</td>\n",
       "      <td>pesanan ini dibatalkan karna waktu kirim tdk sesuai dg estimasi, tetapi poin saya tetap terpotong</td>\n",
       "      <td>[pesan, ini, batal, karna, waktu, kirim, tdk, sesuai, dg, estimasi, , tetapi, poin, saya, tetap, potong]</td>\n",
       "    </tr>\n",
       "    <tr>\n",
       "      <th>391</th>\n",
       "      <td>9990013149303785</td>\n",
       "      <td>1225562</td>\n",
       "      <td>2.0</td>\n",
       "      <td>hanya whatsapp konfirmasi pesanan tanpa pemberitahuan produk ready semua atau ga dan hanya confirm shareloc, sesampainya pesanan malah yang dibutuhkan tidak ada. salut lah kecewanya</td>\n",
       "      <td>[hanya, whatsapp, konfirmasi, pesan, tanpa, beri, produk, ready, semua, atau, ga, dan, hanya, confirm, shareloc, , sampai, pesan, malah, yang, butuh, tidak, ada, , salut, lah, kecewa]</td>\n",
       "    </tr>\n",
       "    <tr>\n",
       "      <th>495</th>\n",
       "      <td>9990013226669030</td>\n",
       "      <td>7101935</td>\n",
       "      <td>2.0</td>\n",
       "      <td>Produk rusak</td>\n",
       "      <td>[produk, rusak]</td>\n",
       "    </tr>\n",
       "    <tr>\n",
       "      <th>518</th>\n",
       "      <td>9990013357708115</td>\n",
       "      <td>7101676</td>\n",
       "      <td>1.0</td>\n",
       "      <td>udh belanja, kok poin nya gk ada?</td>\n",
       "      <td>[udh, belanja, , kok, poin, nya, gk, ada, ]</td>\n",
       "    </tr>\n",
       "  </tbody>\n",
       "</table>\n",
       "</div>"
      ],
      "text/plain": [
       "     tbtdr_ponta_user  tbtdr_tbto_id  tbtdr_rating  \\\n",
       "233  9990013350229355        6103590           2.0   \n",
       "387  9990010138638665        5550827           1.0   \n",
       "391  9990013149303785        1225562           2.0   \n",
       "495  9990013226669030        7101935           2.0   \n",
       "518  9990013357708115        7101676           1.0   \n",
       "\n",
       "                                                                                                                                                                              tbtdr_review  \\\n",
       "233                                                                                                                                                                       Pembayaran Sulit   \n",
       "387                                                                                      pesanan ini dibatalkan karna waktu kirim tdk sesuai dg estimasi, tetapi poin saya tetap terpotong   \n",
       "391  hanya whatsapp konfirmasi pesanan tanpa pemberitahuan produk ready semua atau ga dan hanya confirm shareloc, sesampainya pesanan malah yang dibutuhkan tidak ada. salut lah kecewanya   \n",
       "495                                                                                                                                                                           Produk rusak   \n",
       "518                                                                                                                                                      udh belanja, kok poin nya gk ada?   \n",
       "\n",
       "                                                                                                                                                                          tbtdr_review_token  \n",
       "233                                                                                                                                                                           [bayar, sulit]  \n",
       "387                                                                                 [pesan, ini, batal, karna, waktu, kirim, tdk, sesuai, dg, estimasi, , tetapi, poin, saya, tetap, potong]  \n",
       "391  [hanya, whatsapp, konfirmasi, pesan, tanpa, beri, produk, ready, semua, atau, ga, dan, hanya, confirm, shareloc, , sampai, pesan, malah, yang, butuh, tidak, ada, , salut, lah, kecewa]  \n",
       "495                                                                                                                                                                          [produk, rusak]  \n",
       "518                                                                                                                                              [udh, belanja, , kok, poin, nya, gk, ada, ]  "
      ]
     },
     "execution_count": 7,
     "metadata": {},
     "output_type": "execute_result"
    }
   ],
   "source": [
    "processed_docs.head()"
   ]
  },
  {
   "cell_type": "code",
   "execution_count": 8,
   "metadata": {},
   "outputs": [],
   "source": [
    "\n",
    "processed_docs = list(processed_docs['tbtdr_review_token'])\n",
    "dictionary = gensim.corpora.Dictionary(processed_docs)"
   ]
  },
  {
   "cell_type": "code",
   "execution_count": 11,
   "metadata": {},
   "outputs": [],
   "source": [
    "bow_corpus = [dictionary.doc2bow(doc) for doc in processed_docs]\n",
    "lda_model =  gensim.models.LdaMulticore(bow_corpus, \n",
    "                                   num_topics = 8, \n",
    "                                   id2word = dictionary,                                    \n",
    "                                   passes = 10,\n",
    "                                   workers = 2)"
   ]
  }
 ],
 "metadata": {
  "kernelspec": {
   "display_name": "Python 3",
   "language": "python",
   "name": "python3"
  },
  "language_info": {
   "codemirror_mode": {
    "name": "ipython",
    "version": 3
   },
   "file_extension": ".py",
   "mimetype": "text/x-python",
   "name": "python",
   "nbconvert_exporter": "python",
   "pygments_lexer": "ipython3",
   "version": "3.8.5"
  }
 },
 "nbformat": 4,
 "nbformat_minor": 4
}
