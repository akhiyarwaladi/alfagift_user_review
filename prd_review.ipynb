{
 "cells": [
  {
   "cell_type": "code",
   "execution_count": 1,
   "metadata": {
    "scrolled": true
   },
   "outputs": [
    {
     "name": "stderr",
     "output_type": "stream",
     "text": [
      "/opt/anaconda3/lib/python3.8/site-packages/gensim/similarities/__init__.py:15: UserWarning: The gensim.similarities.levenshtein submodule is disabled, because the optional Levenshtein package <https://pypi.org/project/python-Levenshtein/> is unavailable. Install Levenhstein (e.g. `pip install python-Levenshtein`) to suppress this warning.\n",
      "  warnings.warn(msg)\n"
     ]
    }
   ],
   "source": [
    "import sys\n",
    "sys.path.append('/home/server/gli-data-science/')\n",
    "\n",
    "import ds_db\n",
    "import pandas as pd\n",
    "import numpy as np\n",
    "import gensim\n",
    "from multiprocessing import  Pool\n",
    "pd.set_option('display.max_columns', None)\n",
    "pd.set_option('max_colwidth', None)"
   ]
  },
  {
   "cell_type": "code",
   "execution_count": null,
   "metadata": {},
   "outputs": [
    {
     "name": "stdout",
     "output_type": "stream",
     "text": [
      "You are connected\n"
     ]
    }
   ],
   "source": [
    "q = '''\n",
    "\n",
    "select tbtdr_ponta_user, tbtdr_tbto_id, tbtdr_rating, tbtdr_review \n",
    "from tb_transaction_delivery_rating ttdr \n",
    "where tbtdr_review notnull and tbtdr_review != ''\n",
    "and tbtdr_created_date between '2021-06-01' and '2021-07-25'\n",
    "'''\n",
    "\n",
    "con, cur = ds_db.connect_prd_order_3()\n",
    "df_re = pd.read_sql(q, con)\n",
    "\n",
    "\n",
    "con.close()"
   ]
  },
  {
   "cell_type": "code",
   "execution_count": null,
   "metadata": {},
   "outputs": [],
   "source": [
    "df_re = df_re[df_re['tbtdr_rating'].isin([1,2])]"
   ]
  },
  {
   "cell_type": "code",
   "execution_count": null,
   "metadata": {},
   "outputs": [],
   "source": []
  },
  {
   "cell_type": "code",
   "execution_count": null,
   "metadata": {},
   "outputs": [],
   "source": [
    "from nlp_id.lemmatizer import Lemmatizer \n",
    "from nlp_id.stopword import StopWord \n",
    "from nlp_id.tokenizer import Tokenizer \n",
    "\n",
    "import re\n",
    "import nltk\n",
    "\n",
    "def basic_clean_single(text):\n",
    "    lemmatizer = Lemmatizer() \n",
    "    \n",
    "    stopword = StopWord() \n",
    "    stopwords = stopword.get_stopword() \n",
    "    \n",
    "    tokenizer = Tokenizer() \n",
    "    words = tokenizer.tokenize(text)\n",
    "    #return [lemmatizer.lemmatize(word) for word in words if word not in stopwords]\n",
    "    return [lemmatizer.lemmatize(word) for word in words]\n",
    "\n",
    "def basic_clean(df):\n",
    "    \"\"\"\n",
    "    A simple function to clean up the data. All the words that\n",
    "    are not designated as a stop word is then lemmatized after\n",
    "    encoding and basic regex parsing are performed.\n",
    "    \"\"\"\n",
    "    df['tbtdr_review_token'] = df['tbtdr_review'].apply(basic_clean_single)\n",
    "    return df\n",
    "\n",
    "\n",
    "# processed_docs = list(df_re['tbtdr_review'].apply(basic_clean))"
   ]
  },
  {
   "cell_type": "code",
   "execution_count": null,
   "metadata": {},
   "outputs": [],
   "source": [
    "def parallelize_dataframe(df, func, n_cores=32):\n",
    "    df_split = np.array_split(df, n_cores)\n",
    "    pool = Pool(n_cores)\n",
    "    df = pd.concat(pool.map(func, df_split))\n",
    "    pool.close()\n",
    "    pool.join()\n",
    "    return df\n",
    "\n",
    "processed_docs = parallelize_dataframe(df_re, basic_clean)"
   ]
  },
  {
   "cell_type": "code",
   "execution_count": null,
   "metadata": {},
   "outputs": [],
   "source": [
    "processed_docs.head()"
   ]
  },
  {
   "cell_type": "code",
   "execution_count": null,
   "metadata": {},
   "outputs": [],
   "source": [
    "\n",
    "processed_docs = list(processed_docs['tbtdr_review_token'])\n",
    "dictionary = gensim.corpora.Dictionary(processed_docs)"
   ]
  },
  {
   "cell_type": "code",
   "execution_count": null,
   "metadata": {},
   "outputs": [],
   "source": [
    "bow_corpus = [dictionary.doc2bow(doc) for doc in processed_docs]\n",
    "lda_model =  gensim.models.LdaMulticore(bow_corpus, \n",
    "                                   num_topics = 8, \n",
    "                                   id2word = dictionary,                                    \n",
    "                                   passes = 10,\n",
    "                                   workers = 2)"
   ]
  },
  {
   "cell_type": "code",
   "execution_count": null,
   "metadata": {},
   "outputs": [],
   "source": [
    "lda_model.print_topics()"
   ]
  },
  {
   "cell_type": "code",
   "execution_count": null,
   "metadata": {},
   "outputs": [],
   "source": [
    "# Visualize the topics\n",
    "import pyLDAvis\n",
    "import pyLDAvis.gensim_models as gensimvis\n",
    "pyLDAvis.enable_notebook()\n",
    "\n",
    "\n",
    "# feed the LDA model into the pyLDAvis instance\n",
    "lda_viz = gensimvis.prepare(lda_model, bow_corpus, dictionary)\n",
    "lda_viz"
   ]
  }
 ],
 "metadata": {
  "kernelspec": {
   "display_name": "Python 3",
   "language": "python",
   "name": "python3"
  },
  "language_info": {
   "codemirror_mode": {
    "name": "ipython",
    "version": 3
   },
   "file_extension": ".py",
   "mimetype": "text/x-python",
   "name": "python",
   "nbconvert_exporter": "python",
   "pygments_lexer": "ipython3",
   "version": "3.8.5"
  }
 },
 "nbformat": 4,
 "nbformat_minor": 4
}
